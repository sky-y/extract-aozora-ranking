{
 "cells": [
  {
   "cell_type": "markdown",
   "id": "065158d4",
   "metadata": {},
   "source": [
    "# 青空文庫のランキング表を取得する\n",
    "\n",
    "取得元: [青空文庫 アクセスランキング](https://www.aozora.gr.jp/access_ranking/)\n",
    "\n",
    "## 目標\n",
    "\n",
    "- ランキング表を取得する（pandasのデータフレームに入れる）\n",
    "    - このノートブックで主に行う\n",
    "- 最新の項目（本）について、XHTMLとテキスト形式を取得する"
   ]
  },
  {
   "cell_type": "code",
   "execution_count": 62,
   "id": "1449c79a",
   "metadata": {},
   "outputs": [],
   "source": [
    "from selenium import webdriver"
   ]
  },
  {
   "cell_type": "code",
   "execution_count": 63,
   "id": "655a0b57",
   "metadata": {},
   "outputs": [],
   "source": [
    "browser = webdriver.Chrome()\n",
    "browser.get('https://www.aozora.gr.jp/access_ranking/')"
   ]
  },
  {
   "cell_type": "code",
   "execution_count": 64,
   "id": "f5d3bfc3",
   "metadata": {},
   "outputs": [],
   "source": [
    "tables = browser.find_elements_by_tag_name('table')\n",
    "\n",
    "# 2番目のtableに最新のランキング項目が入っている\n",
    "table_index = 1\n",
    "table = tables[1]"
   ]
  },
  {
   "cell_type": "code",
   "execution_count": 65,
   "id": "4fee746e",
   "metadata": {},
   "outputs": [
    {
     "name": "stdout",
     "output_type": "stream",
     "text": [
      "<table width=\"350\">\n",
      "<tbody>\n",
      "\n",
      "<tr>\n",
      "<td width=\"40%\" bgcolor=\"#FFFFCC\"><b>　2021年6月　</b></td>\n",
      "<td width=\"30%\" bgcolor=\"#F0F8FF\">　<a href=\"2021_06_xhtml.html\">XHTML版</a></td>\n",
      "<td width=\"30%\" bgcolor=\"#F0F8FF\">　<a href=\"2021_06_txt.html\">テキスト版</a></td>\n",
      "</tr>\n",
      "<tr>\n",
      "<td width=\"40%\" bgcolor=\"#FFFFCC\"><b>　2021年5月　</b></td>\n",
      "<td width=\"30%\" bgcolor=\"#F0F8FF\">　<a href=\"2021_05_xhtml.html\">XHTML版</a></td>\n",
      "<td width=\"30%\" bgcolor=\"#F0F8FF\">　<a href=\"2021_05_txt.html\">テキスト版</a></td>\n",
      "</tr>\n",
      "<tr>\n",
      "<td width=\"40%\" bgcolor=\"#FFFFCC\"><b>　2021年4月　</b></td>\n",
      "<td width=\"30%\" bgcolor=\"#F0F8FF\">　<a href=\"2021_04_xhtml.html\">XHTML版</a></td>\n",
      "<td width=\"30%\" bgcolor=\"#F0F8FF\">　<a href=\"2021_04_txt.html\">テキスト版</a></td>\n",
      "</tr>\n",
      "<tr>\n",
      "<td width=\"40%\" bgcolor=\"#FFFFCC\"><b>　2021年3月　</b></td>\n",
      "<td width=\"30%\" bgcolor=\"#F0F8FF\">　<a href=\"2021_03_xhtml.html\">XHTML版</a></td>\n",
      "<td width=\"30%\" bgcolor=\"#F0F8FF\">　<a href=\"2021_03_txt.html\">テキスト版</a></td>\n",
      "</tr>\n",
      "<tr>\n",
      "<td width=\"40%\" bgcolor=\"#FFFFCC\"><b>　2021年2月　</b></td>\n",
      "<td width=\"30%\" bgcolor=\"#F0F8FF\">　<a href=\"2021_02_xhtml.html\">XHTML版</a></td>\n",
      "<td width=\"30%\" bgcolor=\"#F0F8FF\">　<a href=\"2021_02_txt.html\">テキスト版</a></td>\n",
      "</tr>\n",
      "<tr>\n",
      "<td width=\"40%\" bgcolor=\"#FFFFCC\"><b>　2021年1月　</b></td>\n",
      "<td width=\"30%\" bgcolor=\"#F0F8FF\">　<a href=\"2021_01_xhtml.html\">XHTML版</a></td>\n",
      "<td width=\"30%\" bgcolor=\"#F0F8FF\">　<a href=\"2021_01_txt.html\">テキスト版</a></td>\n",
      "</tr>\n",
      "</tbody>\n",
      "</table>\n"
     ]
    }
   ],
   "source": [
    "# 出力に改行を反映させたいので print 関数を用いる\n",
    "print(table.get_attribute('outerHTML'))"
   ]
  },
  {
   "cell_type": "markdown",
   "id": "cb917e85",
   "metadata": {},
   "source": [
    "## 1件だけ抽出する"
   ]
  },
  {
   "cell_type": "code",
   "execution_count": 66,
   "id": "032a1ae2",
   "metadata": {},
   "outputs": [
    {
     "data": {
      "text/plain": [
       "6"
      ]
     },
     "execution_count": 66,
     "metadata": {},
     "output_type": "execute_result"
    }
   ],
   "source": [
    "trs = table.find_elements_by_tag_name('tr')\n",
    "len(trs)"
   ]
  },
  {
   "cell_type": "code",
   "execution_count": 67,
   "id": "59138fd9",
   "metadata": {},
   "outputs": [],
   "source": [
    "tds = trs[0].find_elements_by_tag_name('td')"
   ]
  },
  {
   "cell_type": "code",
   "execution_count": 68,
   "id": "741e3a95",
   "metadata": {},
   "outputs": [
    {
     "data": {
      "text/plain": [
       "'2021年6月'"
      ]
     },
     "execution_count": 68,
     "metadata": {},
     "output_type": "execute_result"
    }
   ],
   "source": [
    "str_date = tds[0].text\n",
    "str_date"
   ]
  },
  {
   "cell_type": "code",
   "execution_count": 69,
   "id": "ad74ed30",
   "metadata": {},
   "outputs": [
    {
     "data": {
      "text/plain": [
       "'https://www.aozora.gr.jp/access_ranking/2021_06_xhtml.html'"
      ]
     },
     "execution_count": 69,
     "metadata": {},
     "output_type": "execute_result"
    }
   ],
   "source": [
    "str_url_xhtml = tds[1].find_element_by_tag_name('a').get_attribute('href')\n",
    "str_url_xhtml"
   ]
  },
  {
   "cell_type": "code",
   "execution_count": 70,
   "id": "a623982f",
   "metadata": {},
   "outputs": [
    {
     "data": {
      "text/plain": [
       "'https://www.aozora.gr.jp/access_ranking/2021_06_txt.html'"
      ]
     },
     "execution_count": 70,
     "metadata": {},
     "output_type": "execute_result"
    }
   ],
   "source": [
    "str_url_txt = tds[2].find_element_by_tag_name('a').get_attribute('href')\n",
    "str_url_txt"
   ]
  },
  {
   "cell_type": "markdown",
   "id": "83ab80bb",
   "metadata": {},
   "source": [
    "## 表全体を取得する"
   ]
  },
  {
   "cell_type": "code",
   "execution_count": 71,
   "id": "98973073",
   "metadata": {},
   "outputs": [
    {
     "data": {
      "text/plain": [
       "[['2021年6月',\n",
       "  'https://www.aozora.gr.jp/access_ranking/2021_06_xhtml.html',\n",
       "  'https://www.aozora.gr.jp/access_ranking/2021_06_txt.html'],\n",
       " ['2021年5月',\n",
       "  'https://www.aozora.gr.jp/access_ranking/2021_05_xhtml.html',\n",
       "  'https://www.aozora.gr.jp/access_ranking/2021_05_txt.html'],\n",
       " ['2021年4月',\n",
       "  'https://www.aozora.gr.jp/access_ranking/2021_04_xhtml.html',\n",
       "  'https://www.aozora.gr.jp/access_ranking/2021_04_txt.html'],\n",
       " ['2021年3月',\n",
       "  'https://www.aozora.gr.jp/access_ranking/2021_03_xhtml.html',\n",
       "  'https://www.aozora.gr.jp/access_ranking/2021_03_txt.html'],\n",
       " ['2021年2月',\n",
       "  'https://www.aozora.gr.jp/access_ranking/2021_02_xhtml.html',\n",
       "  'https://www.aozora.gr.jp/access_ranking/2021_02_txt.html'],\n",
       " ['2021年1月',\n",
       "  'https://www.aozora.gr.jp/access_ranking/2021_01_xhtml.html',\n",
       "  'https://www.aozora.gr.jp/access_ranking/2021_01_txt.html']]"
      ]
     },
     "execution_count": 71,
     "metadata": {},
     "output_type": "execute_result"
    }
   ],
   "source": [
    "# ランキング表\n",
    "rank_list = []\n",
    "\n",
    "for tr in trs:    \n",
    "    tds = tr.find_elements_by_tag_name('td')\n",
    "    str_date = tds[0].text\n",
    "    str_url_xhtml = tds[1].find_element_by_tag_name('a').get_attribute('href')\n",
    "    str_url_txt = tds[2].find_element_by_tag_name('a').get_attribute('href')\n",
    "    \n",
    "    rank_list.append([str_date, str_url_xhtml, str_url_txt])\n",
    "\n",
    "rank_list"
   ]
  },
  {
   "cell_type": "code",
   "execution_count": 72,
   "id": "012cc936",
   "metadata": {},
   "outputs": [],
   "source": [
    "import pandas as pd"
   ]
  },
  {
   "cell_type": "code",
   "execution_count": 73,
   "id": "12fbd00c",
   "metadata": {
    "scrolled": true
   },
   "outputs": [
    {
     "data": {
      "text/html": [
       "<div>\n",
       "<style scoped>\n",
       "    .dataframe tbody tr th:only-of-type {\n",
       "        vertical-align: middle;\n",
       "    }\n",
       "\n",
       "    .dataframe tbody tr th {\n",
       "        vertical-align: top;\n",
       "    }\n",
       "\n",
       "    .dataframe thead th {\n",
       "        text-align: right;\n",
       "    }\n",
       "</style>\n",
       "<table border=\"1\" class=\"dataframe\">\n",
       "  <thead>\n",
       "    <tr style=\"text-align: right;\">\n",
       "      <th></th>\n",
       "      <th>年月</th>\n",
       "      <th>URL (XHTML版)</th>\n",
       "      <th>URL (テキスト版)</th>\n",
       "    </tr>\n",
       "  </thead>\n",
       "  <tbody>\n",
       "    <tr>\n",
       "      <th>0</th>\n",
       "      <td>2021年6月</td>\n",
       "      <td>https://www.aozora.gr.jp/access_ranking/2021_0...</td>\n",
       "      <td>https://www.aozora.gr.jp/access_ranking/2021_0...</td>\n",
       "    </tr>\n",
       "    <tr>\n",
       "      <th>1</th>\n",
       "      <td>2021年5月</td>\n",
       "      <td>https://www.aozora.gr.jp/access_ranking/2021_0...</td>\n",
       "      <td>https://www.aozora.gr.jp/access_ranking/2021_0...</td>\n",
       "    </tr>\n",
       "    <tr>\n",
       "      <th>2</th>\n",
       "      <td>2021年4月</td>\n",
       "      <td>https://www.aozora.gr.jp/access_ranking/2021_0...</td>\n",
       "      <td>https://www.aozora.gr.jp/access_ranking/2021_0...</td>\n",
       "    </tr>\n",
       "    <tr>\n",
       "      <th>3</th>\n",
       "      <td>2021年3月</td>\n",
       "      <td>https://www.aozora.gr.jp/access_ranking/2021_0...</td>\n",
       "      <td>https://www.aozora.gr.jp/access_ranking/2021_0...</td>\n",
       "    </tr>\n",
       "    <tr>\n",
       "      <th>4</th>\n",
       "      <td>2021年2月</td>\n",
       "      <td>https://www.aozora.gr.jp/access_ranking/2021_0...</td>\n",
       "      <td>https://www.aozora.gr.jp/access_ranking/2021_0...</td>\n",
       "    </tr>\n",
       "    <tr>\n",
       "      <th>5</th>\n",
       "      <td>2021年1月</td>\n",
       "      <td>https://www.aozora.gr.jp/access_ranking/2021_0...</td>\n",
       "      <td>https://www.aozora.gr.jp/access_ranking/2021_0...</td>\n",
       "    </tr>\n",
       "  </tbody>\n",
       "</table>\n",
       "</div>"
      ],
      "text/plain": [
       "        年月                                       URL (XHTML版)  \\\n",
       "0  2021年6月  https://www.aozora.gr.jp/access_ranking/2021_0...   \n",
       "1  2021年5月  https://www.aozora.gr.jp/access_ranking/2021_0...   \n",
       "2  2021年4月  https://www.aozora.gr.jp/access_ranking/2021_0...   \n",
       "3  2021年3月  https://www.aozora.gr.jp/access_ranking/2021_0...   \n",
       "4  2021年2月  https://www.aozora.gr.jp/access_ranking/2021_0...   \n",
       "5  2021年1月  https://www.aozora.gr.jp/access_ranking/2021_0...   \n",
       "\n",
       "                                         URL (テキスト版)  \n",
       "0  https://www.aozora.gr.jp/access_ranking/2021_0...  \n",
       "1  https://www.aozora.gr.jp/access_ranking/2021_0...  \n",
       "2  https://www.aozora.gr.jp/access_ranking/2021_0...  \n",
       "3  https://www.aozora.gr.jp/access_ranking/2021_0...  \n",
       "4  https://www.aozora.gr.jp/access_ranking/2021_0...  \n",
       "5  https://www.aozora.gr.jp/access_ranking/2021_0...  "
      ]
     },
     "execution_count": 73,
     "metadata": {},
     "output_type": "execute_result"
    }
   ],
   "source": [
    "df = pd.DataFrame(rank_list, columns=['年月', 'URL (XHTML版)', 'URL (テキスト版)'])\n",
    "df"
   ]
  },
  {
   "cell_type": "markdown",
   "id": "c41b6a0a",
   "metadata": {},
   "source": [
    "## タイムスタンプ順にソートする"
   ]
  },
  {
   "cell_type": "code",
   "execution_count": 74,
   "id": "5b50e6e7",
   "metadata": {},
   "outputs": [
    {
     "data": {
      "text/html": [
       "<div>\n",
       "<style scoped>\n",
       "    .dataframe tbody tr th:only-of-type {\n",
       "        vertical-align: middle;\n",
       "    }\n",
       "\n",
       "    .dataframe tbody tr th {\n",
       "        vertical-align: top;\n",
       "    }\n",
       "\n",
       "    .dataframe thead th {\n",
       "        text-align: right;\n",
       "    }\n",
       "</style>\n",
       "<table border=\"1\" class=\"dataframe\">\n",
       "  <thead>\n",
       "    <tr style=\"text-align: right;\">\n",
       "      <th></th>\n",
       "      <th>年月</th>\n",
       "      <th>URL (XHTML版)</th>\n",
       "      <th>URL (テキスト版)</th>\n",
       "      <th>タイムスタンプ</th>\n",
       "    </tr>\n",
       "  </thead>\n",
       "  <tbody>\n",
       "    <tr>\n",
       "      <th>0</th>\n",
       "      <td>2021年6月</td>\n",
       "      <td>https://www.aozora.gr.jp/access_ranking/2021_0...</td>\n",
       "      <td>https://www.aozora.gr.jp/access_ranking/2021_0...</td>\n",
       "      <td>2021-06-01</td>\n",
       "    </tr>\n",
       "    <tr>\n",
       "      <th>1</th>\n",
       "      <td>2021年5月</td>\n",
       "      <td>https://www.aozora.gr.jp/access_ranking/2021_0...</td>\n",
       "      <td>https://www.aozora.gr.jp/access_ranking/2021_0...</td>\n",
       "      <td>2021-05-01</td>\n",
       "    </tr>\n",
       "    <tr>\n",
       "      <th>2</th>\n",
       "      <td>2021年4月</td>\n",
       "      <td>https://www.aozora.gr.jp/access_ranking/2021_0...</td>\n",
       "      <td>https://www.aozora.gr.jp/access_ranking/2021_0...</td>\n",
       "      <td>2021-04-01</td>\n",
       "    </tr>\n",
       "    <tr>\n",
       "      <th>3</th>\n",
       "      <td>2021年3月</td>\n",
       "      <td>https://www.aozora.gr.jp/access_ranking/2021_0...</td>\n",
       "      <td>https://www.aozora.gr.jp/access_ranking/2021_0...</td>\n",
       "      <td>2021-03-01</td>\n",
       "    </tr>\n",
       "    <tr>\n",
       "      <th>4</th>\n",
       "      <td>2021年2月</td>\n",
       "      <td>https://www.aozora.gr.jp/access_ranking/2021_0...</td>\n",
       "      <td>https://www.aozora.gr.jp/access_ranking/2021_0...</td>\n",
       "      <td>2021-02-01</td>\n",
       "    </tr>\n",
       "    <tr>\n",
       "      <th>5</th>\n",
       "      <td>2021年1月</td>\n",
       "      <td>https://www.aozora.gr.jp/access_ranking/2021_0...</td>\n",
       "      <td>https://www.aozora.gr.jp/access_ranking/2021_0...</td>\n",
       "      <td>2021-01-01</td>\n",
       "    </tr>\n",
       "  </tbody>\n",
       "</table>\n",
       "</div>"
      ],
      "text/plain": [
       "        年月                                       URL (XHTML版)  \\\n",
       "0  2021年6月  https://www.aozora.gr.jp/access_ranking/2021_0...   \n",
       "1  2021年5月  https://www.aozora.gr.jp/access_ranking/2021_0...   \n",
       "2  2021年4月  https://www.aozora.gr.jp/access_ranking/2021_0...   \n",
       "3  2021年3月  https://www.aozora.gr.jp/access_ranking/2021_0...   \n",
       "4  2021年2月  https://www.aozora.gr.jp/access_ranking/2021_0...   \n",
       "5  2021年1月  https://www.aozora.gr.jp/access_ranking/2021_0...   \n",
       "\n",
       "                                         URL (テキスト版)    タイムスタンプ  \n",
       "0  https://www.aozora.gr.jp/access_ranking/2021_0... 2021-06-01  \n",
       "1  https://www.aozora.gr.jp/access_ranking/2021_0... 2021-05-01  \n",
       "2  https://www.aozora.gr.jp/access_ranking/2021_0... 2021-04-01  \n",
       "3  https://www.aozora.gr.jp/access_ranking/2021_0... 2021-03-01  \n",
       "4  https://www.aozora.gr.jp/access_ranking/2021_0... 2021-02-01  \n",
       "5  https://www.aozora.gr.jp/access_ranking/2021_0... 2021-01-01  "
      ]
     },
     "execution_count": 74,
     "metadata": {},
     "output_type": "execute_result"
    }
   ],
   "source": [
    "df['タイムスタンプ'] = pd.to_datetime(df['年月'], format='%Y年%m月')\n",
    "df"
   ]
  },
  {
   "cell_type": "code",
   "execution_count": 75,
   "id": "713642f9",
   "metadata": {},
   "outputs": [
    {
     "data": {
      "text/html": [
       "<div>\n",
       "<style scoped>\n",
       "    .dataframe tbody tr th:only-of-type {\n",
       "        vertical-align: middle;\n",
       "    }\n",
       "\n",
       "    .dataframe tbody tr th {\n",
       "        vertical-align: top;\n",
       "    }\n",
       "\n",
       "    .dataframe thead th {\n",
       "        text-align: right;\n",
       "    }\n",
       "</style>\n",
       "<table border=\"1\" class=\"dataframe\">\n",
       "  <thead>\n",
       "    <tr style=\"text-align: right;\">\n",
       "      <th></th>\n",
       "      <th>年月</th>\n",
       "      <th>URL (XHTML版)</th>\n",
       "      <th>URL (テキスト版)</th>\n",
       "      <th>タイムスタンプ</th>\n",
       "    </tr>\n",
       "  </thead>\n",
       "  <tbody>\n",
       "    <tr>\n",
       "      <th>0</th>\n",
       "      <td>2021年6月</td>\n",
       "      <td>https://www.aozora.gr.jp/access_ranking/2021_0...</td>\n",
       "      <td>https://www.aozora.gr.jp/access_ranking/2021_0...</td>\n",
       "      <td>2021-06-01</td>\n",
       "    </tr>\n",
       "    <tr>\n",
       "      <th>1</th>\n",
       "      <td>2021年5月</td>\n",
       "      <td>https://www.aozora.gr.jp/access_ranking/2021_0...</td>\n",
       "      <td>https://www.aozora.gr.jp/access_ranking/2021_0...</td>\n",
       "      <td>2021-05-01</td>\n",
       "    </tr>\n",
       "    <tr>\n",
       "      <th>2</th>\n",
       "      <td>2021年4月</td>\n",
       "      <td>https://www.aozora.gr.jp/access_ranking/2021_0...</td>\n",
       "      <td>https://www.aozora.gr.jp/access_ranking/2021_0...</td>\n",
       "      <td>2021-04-01</td>\n",
       "    </tr>\n",
       "    <tr>\n",
       "      <th>3</th>\n",
       "      <td>2021年3月</td>\n",
       "      <td>https://www.aozora.gr.jp/access_ranking/2021_0...</td>\n",
       "      <td>https://www.aozora.gr.jp/access_ranking/2021_0...</td>\n",
       "      <td>2021-03-01</td>\n",
       "    </tr>\n",
       "    <tr>\n",
       "      <th>4</th>\n",
       "      <td>2021年2月</td>\n",
       "      <td>https://www.aozora.gr.jp/access_ranking/2021_0...</td>\n",
       "      <td>https://www.aozora.gr.jp/access_ranking/2021_0...</td>\n",
       "      <td>2021-02-01</td>\n",
       "    </tr>\n",
       "    <tr>\n",
       "      <th>5</th>\n",
       "      <td>2021年1月</td>\n",
       "      <td>https://www.aozora.gr.jp/access_ranking/2021_0...</td>\n",
       "      <td>https://www.aozora.gr.jp/access_ranking/2021_0...</td>\n",
       "      <td>2021-01-01</td>\n",
       "    </tr>\n",
       "  </tbody>\n",
       "</table>\n",
       "</div>"
      ],
      "text/plain": [
       "        年月                                       URL (XHTML版)  \\\n",
       "0  2021年6月  https://www.aozora.gr.jp/access_ranking/2021_0...   \n",
       "1  2021年5月  https://www.aozora.gr.jp/access_ranking/2021_0...   \n",
       "2  2021年4月  https://www.aozora.gr.jp/access_ranking/2021_0...   \n",
       "3  2021年3月  https://www.aozora.gr.jp/access_ranking/2021_0...   \n",
       "4  2021年2月  https://www.aozora.gr.jp/access_ranking/2021_0...   \n",
       "5  2021年1月  https://www.aozora.gr.jp/access_ranking/2021_0...   \n",
       "\n",
       "                                         URL (テキスト版)    タイムスタンプ  \n",
       "0  https://www.aozora.gr.jp/access_ranking/2021_0... 2021-06-01  \n",
       "1  https://www.aozora.gr.jp/access_ranking/2021_0... 2021-05-01  \n",
       "2  https://www.aozora.gr.jp/access_ranking/2021_0... 2021-04-01  \n",
       "3  https://www.aozora.gr.jp/access_ranking/2021_0... 2021-03-01  \n",
       "4  https://www.aozora.gr.jp/access_ranking/2021_0... 2021-02-01  \n",
       "5  https://www.aozora.gr.jp/access_ranking/2021_0... 2021-01-01  "
      ]
     },
     "execution_count": 75,
     "metadata": {},
     "output_type": "execute_result"
    }
   ],
   "source": [
    "# 新しい方を上にする\n",
    "df_sorted = df.sort_values(by='タイムスタンプ', ascending=False) \n",
    "df_sorted"
   ]
  },
  {
   "cell_type": "code",
   "execution_count": 76,
   "id": "82ec21ba",
   "metadata": {},
   "outputs": [
    {
     "data": {
      "text/html": [
       "<div>\n",
       "<style scoped>\n",
       "    .dataframe tbody tr th:only-of-type {\n",
       "        vertical-align: middle;\n",
       "    }\n",
       "\n",
       "    .dataframe tbody tr th {\n",
       "        vertical-align: top;\n",
       "    }\n",
       "\n",
       "    .dataframe thead th {\n",
       "        text-align: right;\n",
       "    }\n",
       "</style>\n",
       "<table border=\"1\" class=\"dataframe\">\n",
       "  <thead>\n",
       "    <tr style=\"text-align: right;\">\n",
       "      <th></th>\n",
       "      <th>年月</th>\n",
       "      <th>URL (XHTML版)</th>\n",
       "      <th>URL (テキスト版)</th>\n",
       "      <th>タイムスタンプ</th>\n",
       "    </tr>\n",
       "  </thead>\n",
       "  <tbody>\n",
       "    <tr>\n",
       "      <th>5</th>\n",
       "      <td>2021年1月</td>\n",
       "      <td>https://www.aozora.gr.jp/access_ranking/2021_0...</td>\n",
       "      <td>https://www.aozora.gr.jp/access_ranking/2021_0...</td>\n",
       "      <td>2021-01-01</td>\n",
       "    </tr>\n",
       "    <tr>\n",
       "      <th>4</th>\n",
       "      <td>2021年2月</td>\n",
       "      <td>https://www.aozora.gr.jp/access_ranking/2021_0...</td>\n",
       "      <td>https://www.aozora.gr.jp/access_ranking/2021_0...</td>\n",
       "      <td>2021-02-01</td>\n",
       "    </tr>\n",
       "    <tr>\n",
       "      <th>3</th>\n",
       "      <td>2021年3月</td>\n",
       "      <td>https://www.aozora.gr.jp/access_ranking/2021_0...</td>\n",
       "      <td>https://www.aozora.gr.jp/access_ranking/2021_0...</td>\n",
       "      <td>2021-03-01</td>\n",
       "    </tr>\n",
       "    <tr>\n",
       "      <th>2</th>\n",
       "      <td>2021年4月</td>\n",
       "      <td>https://www.aozora.gr.jp/access_ranking/2021_0...</td>\n",
       "      <td>https://www.aozora.gr.jp/access_ranking/2021_0...</td>\n",
       "      <td>2021-04-01</td>\n",
       "    </tr>\n",
       "    <tr>\n",
       "      <th>1</th>\n",
       "      <td>2021年5月</td>\n",
       "      <td>https://www.aozora.gr.jp/access_ranking/2021_0...</td>\n",
       "      <td>https://www.aozora.gr.jp/access_ranking/2021_0...</td>\n",
       "      <td>2021-05-01</td>\n",
       "    </tr>\n",
       "    <tr>\n",
       "      <th>0</th>\n",
       "      <td>2021年6月</td>\n",
       "      <td>https://www.aozora.gr.jp/access_ranking/2021_0...</td>\n",
       "      <td>https://www.aozora.gr.jp/access_ranking/2021_0...</td>\n",
       "      <td>2021-06-01</td>\n",
       "    </tr>\n",
       "  </tbody>\n",
       "</table>\n",
       "</div>"
      ],
      "text/plain": [
       "        年月                                       URL (XHTML版)  \\\n",
       "5  2021年1月  https://www.aozora.gr.jp/access_ranking/2021_0...   \n",
       "4  2021年2月  https://www.aozora.gr.jp/access_ranking/2021_0...   \n",
       "3  2021年3月  https://www.aozora.gr.jp/access_ranking/2021_0...   \n",
       "2  2021年4月  https://www.aozora.gr.jp/access_ranking/2021_0...   \n",
       "1  2021年5月  https://www.aozora.gr.jp/access_ranking/2021_0...   \n",
       "0  2021年6月  https://www.aozora.gr.jp/access_ranking/2021_0...   \n",
       "\n",
       "                                         URL (テキスト版)    タイムスタンプ  \n",
       "5  https://www.aozora.gr.jp/access_ranking/2021_0... 2021-01-01  \n",
       "4  https://www.aozora.gr.jp/access_ranking/2021_0... 2021-02-01  \n",
       "3  https://www.aozora.gr.jp/access_ranking/2021_0... 2021-03-01  \n",
       "2  https://www.aozora.gr.jp/access_ranking/2021_0... 2021-04-01  \n",
       "1  https://www.aozora.gr.jp/access_ranking/2021_0... 2021-05-01  \n",
       "0  https://www.aozora.gr.jp/access_ranking/2021_0... 2021-06-01  "
      ]
     },
     "execution_count": 76,
     "metadata": {},
     "output_type": "execute_result"
    }
   ],
   "source": [
    "# おまけ：古い方を上にする\n",
    "df.sort_values(by='タイムスタンプ', ascending=True) "
   ]
  },
  {
   "cell_type": "markdown",
   "id": "7c752151",
   "metadata": {},
   "source": [
    "## 最新の項目についてリンクだけを取り出す"
   ]
  },
  {
   "cell_type": "code",
   "execution_count": 77,
   "id": "b2dd6bfd",
   "metadata": {},
   "outputs": [
    {
     "data": {
      "text/html": [
       "<div>\n",
       "<style scoped>\n",
       "    .dataframe tbody tr th:only-of-type {\n",
       "        vertical-align: middle;\n",
       "    }\n",
       "\n",
       "    .dataframe tbody tr th {\n",
       "        vertical-align: top;\n",
       "    }\n",
       "\n",
       "    .dataframe thead th {\n",
       "        text-align: right;\n",
       "    }\n",
       "</style>\n",
       "<table border=\"1\" class=\"dataframe\">\n",
       "  <thead>\n",
       "    <tr style=\"text-align: right;\">\n",
       "      <th></th>\n",
       "      <th>年月</th>\n",
       "      <th>URL (XHTML版)</th>\n",
       "      <th>URL (テキスト版)</th>\n",
       "      <th>タイムスタンプ</th>\n",
       "    </tr>\n",
       "  </thead>\n",
       "  <tbody>\n",
       "    <tr>\n",
       "      <th>0</th>\n",
       "      <td>2021年6月</td>\n",
       "      <td>https://www.aozora.gr.jp/access_ranking/2021_0...</td>\n",
       "      <td>https://www.aozora.gr.jp/access_ranking/2021_0...</td>\n",
       "      <td>2021-06-01</td>\n",
       "    </tr>\n",
       "  </tbody>\n",
       "</table>\n",
       "</div>"
      ],
      "text/plain": [
       "        年月                                       URL (XHTML版)  \\\n",
       "0  2021年6月  https://www.aozora.gr.jp/access_ranking/2021_0...   \n",
       "\n",
       "                                         URL (テキスト版)    タイムスタンプ  \n",
       "0  https://www.aozora.gr.jp/access_ranking/2021_0... 2021-06-01  "
      ]
     },
     "execution_count": 77,
     "metadata": {},
     "output_type": "execute_result"
    }
   ],
   "source": [
    "row = df_sorted.head(1)\n",
    "row"
   ]
  },
  {
   "cell_type": "code",
   "execution_count": 78,
   "id": "9a6ae09e",
   "metadata": {},
   "outputs": [
    {
     "data": {
      "text/plain": [
       "'https://www.aozora.gr.jp/access_ranking/2021_06_xhtml.html'"
      ]
     },
     "execution_count": 78,
     "metadata": {},
     "output_type": "execute_result"
    }
   ],
   "source": [
    "url_xhtml = row.at[0,'URL (XHTML版)']\n",
    "url_xhtml"
   ]
  },
  {
   "cell_type": "code",
   "execution_count": 79,
   "id": "f8616288",
   "metadata": {},
   "outputs": [
    {
     "data": {
      "text/plain": [
       "'https://www.aozora.gr.jp/access_ranking/2021_06_txt.html'"
      ]
     },
     "execution_count": 79,
     "metadata": {},
     "output_type": "execute_result"
    }
   ],
   "source": [
    "url_txt = row.at[0,'URL (テキスト版)']\n",
    "url_txt"
   ]
  },
  {
   "cell_type": "code",
   "execution_count": 81,
   "id": "1af28f88",
   "metadata": {},
   "outputs": [],
   "source": [
    "browser.quit()"
   ]
  }
 ],
 "metadata": {
  "kernelspec": {
   "display_name": "Python 3",
   "language": "python",
   "name": "python3"
  },
  "language_info": {
   "codemirror_mode": {
    "name": "ipython",
    "version": 3
   },
   "file_extension": ".py",
   "mimetype": "text/x-python",
   "name": "python",
   "nbconvert_exporter": "python",
   "pygments_lexer": "ipython3",
   "version": "3.9.5"
  }
 },
 "nbformat": 4,
 "nbformat_minor": 5
}
