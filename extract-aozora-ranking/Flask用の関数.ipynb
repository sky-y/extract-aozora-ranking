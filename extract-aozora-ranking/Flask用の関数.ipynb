{
 "cells": [
  {
   "cell_type": "code",
   "execution_count": 12,
   "source": [
    "from lib import *\n",
    "import pandas as pd"
   ],
   "outputs": [],
   "metadata": {}
  },
  {
   "cell_type": "code",
   "execution_count": 13,
   "source": [
    "df = extract_ranking_links_as_data_frame()\n",
    "df"
   ],
   "outputs": [
    {
     "output_type": "execute_result",
     "data": {
      "text/html": [
       "<div>\n",
       "<style scoped>\n",
       "    .dataframe tbody tr th:only-of-type {\n",
       "        vertical-align: middle;\n",
       "    }\n",
       "\n",
       "    .dataframe tbody tr th {\n",
       "        vertical-align: top;\n",
       "    }\n",
       "\n",
       "    .dataframe thead th {\n",
       "        text-align: right;\n",
       "    }\n",
       "</style>\n",
       "<table border=\"1\" class=\"dataframe\">\n",
       "  <thead>\n",
       "    <tr style=\"text-align: right;\">\n",
       "      <th></th>\n",
       "      <th>年月</th>\n",
       "      <th>URL (XHTML版)</th>\n",
       "      <th>URL (テキスト版)</th>\n",
       "      <th>タイムスタンプ</th>\n",
       "    </tr>\n",
       "  </thead>\n",
       "  <tbody>\n",
       "    <tr>\n",
       "      <th>0</th>\n",
       "      <td>2021年8月</td>\n",
       "      <td>https://www.aozora.gr.jp/access_ranking/2021_0...</td>\n",
       "      <td>https://www.aozora.gr.jp/access_ranking/2021_0...</td>\n",
       "      <td>2021-08-01</td>\n",
       "    </tr>\n",
       "    <tr>\n",
       "      <th>1</th>\n",
       "      <td>2021年7月</td>\n",
       "      <td>https://www.aozora.gr.jp/access_ranking/2021_0...</td>\n",
       "      <td>https://www.aozora.gr.jp/access_ranking/2021_0...</td>\n",
       "      <td>2021-07-01</td>\n",
       "    </tr>\n",
       "    <tr>\n",
       "      <th>2</th>\n",
       "      <td>2021年6月</td>\n",
       "      <td>https://www.aozora.gr.jp/access_ranking/2021_0...</td>\n",
       "      <td>https://www.aozora.gr.jp/access_ranking/2021_0...</td>\n",
       "      <td>2021-06-01</td>\n",
       "    </tr>\n",
       "    <tr>\n",
       "      <th>3</th>\n",
       "      <td>2021年5月</td>\n",
       "      <td>https://www.aozora.gr.jp/access_ranking/2021_0...</td>\n",
       "      <td>https://www.aozora.gr.jp/access_ranking/2021_0...</td>\n",
       "      <td>2021-05-01</td>\n",
       "    </tr>\n",
       "    <tr>\n",
       "      <th>4</th>\n",
       "      <td>2021年4月</td>\n",
       "      <td>https://www.aozora.gr.jp/access_ranking/2021_0...</td>\n",
       "      <td>https://www.aozora.gr.jp/access_ranking/2021_0...</td>\n",
       "      <td>2021-04-01</td>\n",
       "    </tr>\n",
       "    <tr>\n",
       "      <th>5</th>\n",
       "      <td>2021年3月</td>\n",
       "      <td>https://www.aozora.gr.jp/access_ranking/2021_0...</td>\n",
       "      <td>https://www.aozora.gr.jp/access_ranking/2021_0...</td>\n",
       "      <td>2021-03-01</td>\n",
       "    </tr>\n",
       "    <tr>\n",
       "      <th>6</th>\n",
       "      <td>2021年2月</td>\n",
       "      <td>https://www.aozora.gr.jp/access_ranking/2021_0...</td>\n",
       "      <td>https://www.aozora.gr.jp/access_ranking/2021_0...</td>\n",
       "      <td>2021-02-01</td>\n",
       "    </tr>\n",
       "    <tr>\n",
       "      <th>7</th>\n",
       "      <td>2021年1月</td>\n",
       "      <td>https://www.aozora.gr.jp/access_ranking/2021_0...</td>\n",
       "      <td>https://www.aozora.gr.jp/access_ranking/2021_0...</td>\n",
       "      <td>2021-01-01</td>\n",
       "    </tr>\n",
       "  </tbody>\n",
       "</table>\n",
       "</div>"
      ],
      "text/plain": [
       "        年月                                       URL (XHTML版)  \\\n",
       "0  2021年8月  https://www.aozora.gr.jp/access_ranking/2021_0...   \n",
       "1  2021年7月  https://www.aozora.gr.jp/access_ranking/2021_0...   \n",
       "2  2021年6月  https://www.aozora.gr.jp/access_ranking/2021_0...   \n",
       "3  2021年5月  https://www.aozora.gr.jp/access_ranking/2021_0...   \n",
       "4  2021年4月  https://www.aozora.gr.jp/access_ranking/2021_0...   \n",
       "5  2021年3月  https://www.aozora.gr.jp/access_ranking/2021_0...   \n",
       "6  2021年2月  https://www.aozora.gr.jp/access_ranking/2021_0...   \n",
       "7  2021年1月  https://www.aozora.gr.jp/access_ranking/2021_0...   \n",
       "\n",
       "                                         URL (テキスト版)    タイムスタンプ  \n",
       "0  https://www.aozora.gr.jp/access_ranking/2021_0... 2021-08-01  \n",
       "1  https://www.aozora.gr.jp/access_ranking/2021_0... 2021-07-01  \n",
       "2  https://www.aozora.gr.jp/access_ranking/2021_0... 2021-06-01  \n",
       "3  https://www.aozora.gr.jp/access_ranking/2021_0... 2021-05-01  \n",
       "4  https://www.aozora.gr.jp/access_ranking/2021_0... 2021-04-01  \n",
       "5  https://www.aozora.gr.jp/access_ranking/2021_0... 2021-03-01  \n",
       "6  https://www.aozora.gr.jp/access_ranking/2021_0... 2021-02-01  \n",
       "7  https://www.aozora.gr.jp/access_ranking/2021_0... 2021-01-01  "
      ]
     },
     "metadata": {},
     "execution_count": 13
    }
   ],
   "metadata": {}
  },
  {
   "cell_type": "code",
   "execution_count": 14,
   "source": [
    "timestamps = get_timestamp_list(df)\n",
    "timestamps"
   ],
   "outputs": [
    {
     "output_type": "execute_result",
     "data": {
      "text/plain": [
       "['2021-08-01',\n",
       " '2021-07-01',\n",
       " '2021-06-01',\n",
       " '2021-05-01',\n",
       " '2021-04-01',\n",
       " '2021-03-01',\n",
       " '2021-02-01',\n",
       " '2021-01-01']"
      ]
     },
     "metadata": {},
     "execution_count": 14
    }
   ],
   "metadata": {}
  },
  {
   "cell_type": "code",
   "execution_count": 15,
   "source": [
    "dates = get_date_list(df)\n",
    "dates"
   ],
   "outputs": [
    {
     "output_type": "execute_result",
     "data": {
      "text/plain": [
       "['2021年8月',\n",
       " '2021年7月',\n",
       " '2021年6月',\n",
       " '2021年5月',\n",
       " '2021年4月',\n",
       " '2021年3月',\n",
       " '2021年2月',\n",
       " '2021年1月']"
      ]
     },
     "metadata": {},
     "execution_count": 15
    }
   ],
   "metadata": {}
  },
  {
   "cell_type": "code",
   "execution_count": 16,
   "source": [
    "dic_dates = {}\n",
    "for x in zip(timestamps, dates):\n",
    "    dic_dates[x[0]] = x[1]\n",
    "dic_dates"
   ],
   "outputs": [
    {
     "output_type": "execute_result",
     "data": {
      "text/plain": [
       "{'2021-08-01': '2021年8月',\n",
       " '2021-07-01': '2021年7月',\n",
       " '2021-06-01': '2021年6月',\n",
       " '2021-05-01': '2021年5月',\n",
       " '2021-04-01': '2021年4月',\n",
       " '2021-03-01': '2021年3月',\n",
       " '2021-02-01': '2021年2月',\n",
       " '2021-01-01': '2021年1月'}"
      ]
     },
     "metadata": {},
     "execution_count": 16
    }
   ],
   "metadata": {}
  },
  {
   "cell_type": "code",
   "execution_count": 17,
   "source": [
    "df.iloc[0]['タイムスタンプ']"
   ],
   "outputs": [
    {
     "output_type": "execute_result",
     "data": {
      "text/plain": [
       "Timestamp('2021-08-01 00:00:00')"
      ]
     },
     "metadata": {},
     "execution_count": 17
    }
   ],
   "metadata": {}
  },
  {
   "cell_type": "code",
   "execution_count": 18,
   "source": [
    "df[KEY_TIMESTAMP][0].strftime('%Y-%m-%d')"
   ],
   "outputs": [
    {
     "output_type": "execute_result",
     "data": {
      "text/plain": [
       "'2021-08-01'"
      ]
     },
     "metadata": {},
     "execution_count": 18
    }
   ],
   "metadata": {}
  },
  {
   "cell_type": "code",
   "execution_count": 19,
   "source": [
    "url_rank, _ = get_urls_by_timestamp(df, '2021-08-01')\n",
    "url_rank"
   ],
   "outputs": [
    {
     "output_type": "execute_result",
     "data": {
      "text/plain": [
       "'https://www.aozora.gr.jp/access_ranking/2021_08_xhtml.html'"
      ]
     },
     "metadata": {},
     "execution_count": 19
    }
   ],
   "metadata": {}
  },
  {
   "cell_type": "code",
   "execution_count": 20,
   "source": [
    "df_rank = get_df_ranking(url_rank)\n",
    "df_rank"
   ],
   "outputs": [
    {
     "output_type": "execute_result",
     "data": {
      "text/html": [
       "<div>\n",
       "<style scoped>\n",
       "    .dataframe tbody tr th:only-of-type {\n",
       "        vertical-align: middle;\n",
       "    }\n",
       "\n",
       "    .dataframe tbody tr th {\n",
       "        vertical-align: top;\n",
       "    }\n",
       "\n",
       "    .dataframe thead th {\n",
       "        text-align: right;\n",
       "    }\n",
       "</style>\n",
       "<table border=\"1\" class=\"dataframe\">\n",
       "  <thead>\n",
       "    <tr style=\"text-align: right;\">\n",
       "      <th></th>\n",
       "      <th>作品名副題</th>\n",
       "      <th>著者名</th>\n",
       "      <th>アクセス数</th>\n",
       "      <th>リンク（作品）</th>\n",
       "    </tr>\n",
       "    <tr>\n",
       "      <th>ランキング</th>\n",
       "      <th></th>\n",
       "      <th></th>\n",
       "      <th></th>\n",
       "      <th></th>\n",
       "    </tr>\n",
       "  </thead>\n",
       "  <tbody>\n",
       "    <tr>\n",
       "      <th>1</th>\n",
       "      <td>〔雨ニモマケズ〕</td>\n",
       "      <td>宮沢 賢治</td>\n",
       "      <td>32587</td>\n",
       "      <td>https://www.aozora.gr.jp/cards/000081/card4563...</td>\n",
       "    </tr>\n",
       "    <tr>\n",
       "      <th>2</th>\n",
       "      <td>こころ</td>\n",
       "      <td>夏目 漱石</td>\n",
       "      <td>24102</td>\n",
       "      <td>https://www.aozora.gr.jp/cards/000148/card773....</td>\n",
       "    </tr>\n",
       "    <tr>\n",
       "      <th>3</th>\n",
       "      <td>星めぐりの歌</td>\n",
       "      <td>宮沢 賢治</td>\n",
       "      <td>19917</td>\n",
       "      <td>https://www.aozora.gr.jp/cards/000081/card4626...</td>\n",
       "    </tr>\n",
       "    <tr>\n",
       "      <th>4</th>\n",
       "      <td>走れメロス</td>\n",
       "      <td>太宰 治</td>\n",
       "      <td>19861</td>\n",
       "      <td>https://www.aozora.gr.jp/cards/000035/card1567...</td>\n",
       "    </tr>\n",
       "    <tr>\n",
       "      <th>5</th>\n",
       "      <td>銀河鉄道の夜</td>\n",
       "      <td>宮沢 賢治</td>\n",
       "      <td>17816</td>\n",
       "      <td>https://www.aozora.gr.jp/cards/000081/card456....</td>\n",
       "    </tr>\n",
       "    <tr>\n",
       "      <th>...</th>\n",
       "      <td>...</td>\n",
       "      <td>...</td>\n",
       "      <td>...</td>\n",
       "      <td>...</td>\n",
       "    </tr>\n",
       "    <tr>\n",
       "      <th>496</th>\n",
       "      <td>柿の種</td>\n",
       "      <td>寺田 寅彦</td>\n",
       "      <td>368</td>\n",
       "      <td>https://www.aozora.gr.jp/cards/000042/card1684...</td>\n",
       "    </tr>\n",
       "    <tr>\n",
       "      <th>497</th>\n",
       "      <td>猫吉親方またの名 長ぐつをはいた猫</td>\n",
       "      <td>ペロー シャルル</td>\n",
       "      <td>368</td>\n",
       "      <td>https://www.aozora.gr.jp/cards/001134/card4311...</td>\n",
       "    </tr>\n",
       "    <tr>\n",
       "      <th>498</th>\n",
       "      <td>詩の原理</td>\n",
       "      <td>萩原 朔太郎</td>\n",
       "      <td>367</td>\n",
       "      <td>https://www.aozora.gr.jp/cards/000067/card2843...</td>\n",
       "    </tr>\n",
       "    <tr>\n",
       "      <th>499</th>\n",
       "      <td>雨の玉川心中01 太宰治との愛と死のノート</td>\n",
       "      <td>山崎 富栄</td>\n",
       "      <td>366</td>\n",
       "      <td>https://www.aozora.gr.jp/cards/001777/card5625...</td>\n",
       "    </tr>\n",
       "    <tr>\n",
       "      <th>500</th>\n",
       "      <td>思ひ出</td>\n",
       "      <td>太宰 治</td>\n",
       "      <td>366</td>\n",
       "      <td>https://www.aozora.gr.jp/cards/000035/card1574...</td>\n",
       "    </tr>\n",
       "  </tbody>\n",
       "</table>\n",
       "<p>500 rows × 4 columns</p>\n",
       "</div>"
      ],
      "text/plain": [
       "                       作品名副題       著者名  アクセス数  \\\n",
       "ランキング                                           \n",
       "1                   〔雨ニモマケズ〕     宮沢 賢治  32587   \n",
       "2                        こころ     夏目 漱石  24102   \n",
       "3                     星めぐりの歌     宮沢 賢治  19917   \n",
       "4                      走れメロス      太宰 治  19861   \n",
       "5                     銀河鉄道の夜     宮沢 賢治  17816   \n",
       "...                      ...       ...    ...   \n",
       "496                      柿の種     寺田 寅彦    368   \n",
       "497        猫吉親方またの名 長ぐつをはいた猫  ペロー シャルル    368   \n",
       "498                     詩の原理    萩原 朔太郎    367   \n",
       "499    雨の玉川心中01 太宰治との愛と死のノート     山崎 富栄    366   \n",
       "500                      思ひ出      太宰 治    366   \n",
       "\n",
       "                                                 リンク（作品）  \n",
       "ランキング                                                     \n",
       "1      https://www.aozora.gr.jp/cards/000081/card4563...  \n",
       "2      https://www.aozora.gr.jp/cards/000148/card773....  \n",
       "3      https://www.aozora.gr.jp/cards/000081/card4626...  \n",
       "4      https://www.aozora.gr.jp/cards/000035/card1567...  \n",
       "5      https://www.aozora.gr.jp/cards/000081/card456....  \n",
       "...                                                  ...  \n",
       "496    https://www.aozora.gr.jp/cards/000042/card1684...  \n",
       "497    https://www.aozora.gr.jp/cards/001134/card4311...  \n",
       "498    https://www.aozora.gr.jp/cards/000067/card2843...  \n",
       "499    https://www.aozora.gr.jp/cards/001777/card5625...  \n",
       "500    https://www.aozora.gr.jp/cards/000035/card1574...  \n",
       "\n",
       "[500 rows x 4 columns]"
      ]
     },
     "metadata": {},
     "execution_count": 20
    }
   ],
   "metadata": {}
  },
  {
   "cell_type": "code",
   "execution_count": null,
   "source": [],
   "outputs": [],
   "metadata": {}
  },
  {
   "cell_type": "code",
   "execution_count": null,
   "source": [],
   "outputs": [],
   "metadata": {}
  },
  {
   "cell_type": "code",
   "execution_count": null,
   "source": [],
   "outputs": [],
   "metadata": {}
  },
  {
   "cell_type": "code",
   "execution_count": null,
   "source": [],
   "outputs": [],
   "metadata": {}
  },
  {
   "cell_type": "code",
   "execution_count": null,
   "source": [],
   "outputs": [],
   "metadata": {}
  }
 ],
 "metadata": {
  "orig_nbformat": 4,
  "language_info": {
   "name": "python",
   "version": "3.9.5",
   "mimetype": "text/x-python",
   "codemirror_mode": {
    "name": "ipython",
    "version": 3
   },
   "pygments_lexer": "ipython3",
   "nbconvert_exporter": "python",
   "file_extension": ".py"
  },
  "kernelspec": {
   "name": "python3",
   "display_name": "Python 3.9.5 64-bit"
  },
  "interpreter": {
   "hash": "7812ea015bdcee6f23a998adcdd2ef97c151c0c241b7b7070987d9313e41299d"
  }
 },
 "nbformat": 4,
 "nbformat_minor": 2
}