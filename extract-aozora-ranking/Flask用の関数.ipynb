{
 "cells": [
  {
   "cell_type": "code",
   "execution_count": 8,
   "source": [
    "from lib import *\n",
    "import pandas as pd"
   ],
   "outputs": [],
   "metadata": {}
  },
  {
   "cell_type": "code",
   "execution_count": 4,
   "source": [
    "df = extract_ranking_links_as_data_frame()\n",
    "df"
   ],
   "outputs": [
    {
     "output_type": "execute_result",
     "data": {
      "text/html": [
       "<div>\n",
       "<style scoped>\n",
       "    .dataframe tbody tr th:only-of-type {\n",
       "        vertical-align: middle;\n",
       "    }\n",
       "\n",
       "    .dataframe tbody tr th {\n",
       "        vertical-align: top;\n",
       "    }\n",
       "\n",
       "    .dataframe thead th {\n",
       "        text-align: right;\n",
       "    }\n",
       "</style>\n",
       "<table border=\"1\" class=\"dataframe\">\n",
       "  <thead>\n",
       "    <tr style=\"text-align: right;\">\n",
       "      <th></th>\n",
       "      <th>年月</th>\n",
       "      <th>URL (XHTML版)</th>\n",
       "      <th>URL (テキスト版)</th>\n",
       "      <th>タイムスタンプ</th>\n",
       "    </tr>\n",
       "  </thead>\n",
       "  <tbody>\n",
       "    <tr>\n",
       "      <th>0</th>\n",
       "      <td>2021年8月</td>\n",
       "      <td>https://www.aozora.gr.jp/access_ranking/2021_0...</td>\n",
       "      <td>https://www.aozora.gr.jp/access_ranking/2021_0...</td>\n",
       "      <td>2021-08-01</td>\n",
       "    </tr>\n",
       "    <tr>\n",
       "      <th>1</th>\n",
       "      <td>2021年7月</td>\n",
       "      <td>https://www.aozora.gr.jp/access_ranking/2021_0...</td>\n",
       "      <td>https://www.aozora.gr.jp/access_ranking/2021_0...</td>\n",
       "      <td>2021-07-01</td>\n",
       "    </tr>\n",
       "    <tr>\n",
       "      <th>2</th>\n",
       "      <td>2021年6月</td>\n",
       "      <td>https://www.aozora.gr.jp/access_ranking/2021_0...</td>\n",
       "      <td>https://www.aozora.gr.jp/access_ranking/2021_0...</td>\n",
       "      <td>2021-06-01</td>\n",
       "    </tr>\n",
       "    <tr>\n",
       "      <th>3</th>\n",
       "      <td>2021年5月</td>\n",
       "      <td>https://www.aozora.gr.jp/access_ranking/2021_0...</td>\n",
       "      <td>https://www.aozora.gr.jp/access_ranking/2021_0...</td>\n",
       "      <td>2021-05-01</td>\n",
       "    </tr>\n",
       "    <tr>\n",
       "      <th>4</th>\n",
       "      <td>2021年4月</td>\n",
       "      <td>https://www.aozora.gr.jp/access_ranking/2021_0...</td>\n",
       "      <td>https://www.aozora.gr.jp/access_ranking/2021_0...</td>\n",
       "      <td>2021-04-01</td>\n",
       "    </tr>\n",
       "    <tr>\n",
       "      <th>5</th>\n",
       "      <td>2021年3月</td>\n",
       "      <td>https://www.aozora.gr.jp/access_ranking/2021_0...</td>\n",
       "      <td>https://www.aozora.gr.jp/access_ranking/2021_0...</td>\n",
       "      <td>2021-03-01</td>\n",
       "    </tr>\n",
       "    <tr>\n",
       "      <th>6</th>\n",
       "      <td>2021年2月</td>\n",
       "      <td>https://www.aozora.gr.jp/access_ranking/2021_0...</td>\n",
       "      <td>https://www.aozora.gr.jp/access_ranking/2021_0...</td>\n",
       "      <td>2021-02-01</td>\n",
       "    </tr>\n",
       "    <tr>\n",
       "      <th>7</th>\n",
       "      <td>2021年1月</td>\n",
       "      <td>https://www.aozora.gr.jp/access_ranking/2021_0...</td>\n",
       "      <td>https://www.aozora.gr.jp/access_ranking/2021_0...</td>\n",
       "      <td>2021-01-01</td>\n",
       "    </tr>\n",
       "  </tbody>\n",
       "</table>\n",
       "</div>"
      ],
      "text/plain": [
       "        年月                                       URL (XHTML版)  \\\n",
       "0  2021年8月  https://www.aozora.gr.jp/access_ranking/2021_0...   \n",
       "1  2021年7月  https://www.aozora.gr.jp/access_ranking/2021_0...   \n",
       "2  2021年6月  https://www.aozora.gr.jp/access_ranking/2021_0...   \n",
       "3  2021年5月  https://www.aozora.gr.jp/access_ranking/2021_0...   \n",
       "4  2021年4月  https://www.aozora.gr.jp/access_ranking/2021_0...   \n",
       "5  2021年3月  https://www.aozora.gr.jp/access_ranking/2021_0...   \n",
       "6  2021年2月  https://www.aozora.gr.jp/access_ranking/2021_0...   \n",
       "7  2021年1月  https://www.aozora.gr.jp/access_ranking/2021_0...   \n",
       "\n",
       "                                         URL (テキスト版)    タイムスタンプ  \n",
       "0  https://www.aozora.gr.jp/access_ranking/2021_0... 2021-08-01  \n",
       "1  https://www.aozora.gr.jp/access_ranking/2021_0... 2021-07-01  \n",
       "2  https://www.aozora.gr.jp/access_ranking/2021_0... 2021-06-01  \n",
       "3  https://www.aozora.gr.jp/access_ranking/2021_0... 2021-05-01  \n",
       "4  https://www.aozora.gr.jp/access_ranking/2021_0... 2021-04-01  \n",
       "5  https://www.aozora.gr.jp/access_ranking/2021_0... 2021-03-01  \n",
       "6  https://www.aozora.gr.jp/access_ranking/2021_0... 2021-02-01  \n",
       "7  https://www.aozora.gr.jp/access_ranking/2021_0... 2021-01-01  "
      ]
     },
     "metadata": {},
     "execution_count": 4
    }
   ],
   "metadata": {}
  },
  {
   "cell_type": "code",
   "execution_count": 5,
   "source": [
    "timestamps = get_timestamp_list(df)\n",
    "timestamps"
   ],
   "outputs": [
    {
     "output_type": "execute_result",
     "data": {
      "text/plain": [
       "['2021-08-01',\n",
       " '2021-07-01',\n",
       " '2021-06-01',\n",
       " '2021-05-01',\n",
       " '2021-04-01',\n",
       " '2021-03-01',\n",
       " '2021-02-01',\n",
       " '2021-01-01']"
      ]
     },
     "metadata": {},
     "execution_count": 5
    }
   ],
   "metadata": {}
  },
  {
   "cell_type": "code",
   "execution_count": 6,
   "source": [
    "dates = get_date_list(df)\n",
    "dates"
   ],
   "outputs": [
    {
     "output_type": "execute_result",
     "data": {
      "text/plain": [
       "['2021年8月',\n",
       " '2021年7月',\n",
       " '2021年6月',\n",
       " '2021年5月',\n",
       " '2021年4月',\n",
       " '2021年3月',\n",
       " '2021年2月',\n",
       " '2021年1月']"
      ]
     },
     "metadata": {},
     "execution_count": 6
    }
   ],
   "metadata": {}
  },
  {
   "cell_type": "code",
   "execution_count": 7,
   "source": [
    "dic_dates = {}\n",
    "for x in zip(timestamps, dates):\n",
    "    dic_dates[x[0]] = x[1]\n",
    "dic_dates"
   ],
   "outputs": [
    {
     "output_type": "execute_result",
     "data": {
      "text/plain": [
       "{'2021-08-01': '2021年8月',\n",
       " '2021-07-01': '2021年7月',\n",
       " '2021-06-01': '2021年6月',\n",
       " '2021-05-01': '2021年5月',\n",
       " '2021-04-01': '2021年4月',\n",
       " '2021-03-01': '2021年3月',\n",
       " '2021-02-01': '2021年2月',\n",
       " '2021-01-01': '2021年1月'}"
      ]
     },
     "metadata": {},
     "execution_count": 7
    }
   ],
   "metadata": {}
  },
  {
   "cell_type": "code",
   "execution_count": 10,
   "source": [
    "df.iloc[0]['タイムスタンプ']"
   ],
   "outputs": [
    {
     "output_type": "execute_result",
     "data": {
      "text/plain": [
       "Timestamp('2021-08-01 00:00:00')"
      ]
     },
     "metadata": {},
     "execution_count": 10
    }
   ],
   "metadata": {}
  },
  {
   "cell_type": "code",
   "execution_count": 17,
   "source": [
    "df[KEY_TIMESTAMP][0].strftime('%Y-%m-%d')"
   ],
   "outputs": [
    {
     "output_type": "execute_result",
     "data": {
      "text/plain": [
       "'2021-08-01'"
      ]
     },
     "metadata": {},
     "execution_count": 17
    }
   ],
   "metadata": {}
  },
  {
   "cell_type": "code",
   "execution_count": null,
   "source": [],
   "outputs": [],
   "metadata": {}
  },
  {
   "cell_type": "code",
   "execution_count": null,
   "source": [],
   "outputs": [],
   "metadata": {}
  },
  {
   "cell_type": "code",
   "execution_count": null,
   "source": [],
   "outputs": [],
   "metadata": {}
  }
 ],
 "metadata": {
  "orig_nbformat": 4,
  "language_info": {
   "name": "python",
   "version": "3.9.5",
   "mimetype": "text/x-python",
   "codemirror_mode": {
    "name": "ipython",
    "version": 3
   },
   "pygments_lexer": "ipython3",
   "nbconvert_exporter": "python",
   "file_extension": ".py"
  },
  "kernelspec": {
   "name": "python3",
   "display_name": "Python 3.9.5 64-bit"
  },
  "interpreter": {
   "hash": "7812ea015bdcee6f23a998adcdd2ef97c151c0c241b7b7070987d9313e41299d"
  }
 },
 "nbformat": 4,
 "nbformat_minor": 2
}